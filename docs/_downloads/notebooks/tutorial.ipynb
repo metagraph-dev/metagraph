{
    "cells": [
        {
            "cell_type": "markdown",
            "metadata": {},
            "source": [
                "# Tutorial\n",
                "\n",
                "This is a brief tutorial of basic Metagraph usage.\n",
                "\n",
                "First, we import Metagraph:",
            ],
        },
        {
            "cell_type": "code",
            "execution_count": 1,
            "metadata": {},
            "outputs": [],
            "source": ["import metagraph as mg"],
        },
        {
            "cell_type": "markdown",
            "metadata": {},
            "source": [
                "## Inspecting Types and Available Algorithms \n",
                "\n",
                "The default resolver automatically pulls in all registered Metagraph plugins.",
            ],
        },
        {
            "cell_type": "code",
            "execution_count": 2,
            "metadata": {},
            "outputs": [],
            "source": ["res = mg.resolver"],
        },
        {
            "cell_type": "markdown",
            "metadata": {},
            "source": [
                "A hierarchy of available types is automatically added as properties on `res`."
            ],
        },
        {
            "cell_type": "code",
            "execution_count": 3,
            "metadata": {},
            "outputs": [
                {
                    "data": {
                        "text/plain": [
                            "['DataFrame', 'EdgeMap', 'EdgeSet', 'Matrix', 'NodeMap', 'NodeSet', 'Vector']"
                        ]
                    },
                    "execution_count": 3,
                    "metadata": {},
                    "output_type": "execute_result",
                }
            ],
            "source": ["dir(res.types)"],
        },
        {
            "cell_type": "markdown",
            "metadata": {},
            "source": [
                "Two important concepts in Metagraph are abstract types and concrete types. \n",
                "\n",
                "Abstract types describe a generic kind of data container with potentially many equivalent representations.\n",
                "\n",
                "Concrete types describe a specific data object which fits under the abstract type category.\n",
                "\n",
                "One can think of abstract types as data container specifications and concrete types as implementations of those specifications.\n",
                "\n",
                "For each abstract type, there are several concrete types.\n",
                "\n",
                "Within a single abstract type, all concrete types are able to represent equivalent data but in a different format or data structure.\n",
                "\n",
                "Here we show the concrete types which represent `EdgeMaps`:",
            ],
        },
        {
            "cell_type": "code",
            "execution_count": 4,
            "metadata": {},
            "outputs": [
                {
                    "data": {
                        "text/plain": [
                            "['GrblasEdgeMapType',\n",
                            " 'NetworkXEdgeMapType',\n",
                            " 'PandasEdgeMapType',\n",
                            " 'ScipyEdgeMapType']",
                        ]
                    },
                    "execution_count": 4,
                    "metadata": {},
                    "output_type": "execute_result",
                }
            ],
            "source": ["dir(res.types.EdgeMap)"],
        },
        {
            "cell_type": "markdown",
            "metadata": {},
            "source": [
                "Algorithms are also be listed under `res.algos` and grouped by categories"
            ],
        },
        {
            "cell_type": "code",
            "execution_count": 5,
            "metadata": {},
            "outputs": [
                {
                    "data": {
                        "text/plain": [
                            "['cluster',\n",
                            " 'clustering',\n",
                            " 'link_analysis',\n",
                            " 'subgraph',\n",
                            " 'traversal',\n",
                            " 'vertex_ranking']",
                        ]
                    },
                    "execution_count": 5,
                    "metadata": {},
                    "output_type": "execute_result",
                }
            ],
            "source": ["dir(res.algos)"],
        },
        {
            "cell_type": "code",
            "execution_count": 6,
            "metadata": {},
            "outputs": [
                {
                    "data": {"text/plain": ["['triangle_count']"]},
                    "execution_count": 6,
                    "metadata": {},
                    "output_type": "execute_result",
                }
            ],
            "source": ["dir(res.algos.cluster)"],
        },
        {
            "cell_type": "markdown",
            "metadata": {},
            "source": [
                "## Example Usage\n",
                "\n",
                "Let’s see how to use Metagraph by first constructing a graph from an edge list.\n",
                "\n",
                "Begin with an input csv file representing the edge list and weights.",
            ],
        },
        {
            "cell_type": "code",
            "execution_count": 7,
            "metadata": {},
            "outputs": [],
            "source": [
                'data = """\n',
                "Source,Destination,Weight\n",
                "0,1,4\n",
                "0,3,2\n",
                "0,4,7\n",
                "1,3,3\n",
                "1,4,5\n",
                "2,4,5\n",
                "2,5,2\n",
                "2,6,8\n",
                "3,4,1\n",
                "4,7,4\n",
                "5,6,4\n",
                "5,7,6\n",
                '"""',
            ],
        },
        {
            "cell_type": "markdown",
            "metadata": {},
            "source": ["Read in the csv file and convert to a Pandas `DataFrame`."],
        },
        {
            "cell_type": "code",
            "execution_count": 8,
            "metadata": {},
            "outputs": [],
            "source": [
                "import pandas as pd\n",
                "import io\n",
                "csv_file = io.StringIO(data)\n",
                "df = pd.read_csv(csv_file)",
            ],
        },
        {
            "cell_type": "markdown",
            "metadata": {},
            "source": [
                "This `DataFrame` represents a graph’s edges, but Metagraph doesn’t know that yet. To use the `DataFrame` within Metagraph, we first need to convert it into a graph-like object.\n",
                "\n",
                "A `PandasEdgeMap` takes a `DataFrame` plus the labels of the columns representing source and destination nodes. With these, Metagraph will know how to interpret the `DataFrame` as a graph.",
            ],
        },
        {
            "cell_type": "code",
            "execution_count": 9,
            "metadata": {},
            "outputs": [
                {
                    "data": {
                        "text/html": [
                            "<div>\n",
                            "<style scoped>\n",
                            "    .dataframe tbody tr th:only-of-type {\n",
                            "        vertical-align: middle;\n",
                            "    }\n",
                            "\n",
                            "    .dataframe tbody tr th {\n",
                            "        vertical-align: top;\n",
                            "    }\n",
                            "\n",
                            "    .dataframe thead th {\n",
                            "        text-align: right;\n",
                            "    }\n",
                            "</style>\n",
                            '<table border="1" class="dataframe">\n',
                            "  <thead>\n",
                            '    <tr style="text-align: right;">\n',
                            "      <th></th>\n",
                            "      <th>Source</th>\n",
                            "      <th>Destination</th>\n",
                            "      <th>Weight</th>\n",
                            "    </tr>\n",
                            "  </thead>\n",
                            "  <tbody>\n",
                            "    <tr>\n",
                            "      <th>0</th>\n",
                            "      <td>0</td>\n",
                            "      <td>1</td>\n",
                            "      <td>4</td>\n",
                            "    </tr>\n",
                            "    <tr>\n",
                            "      <th>1</th>\n",
                            "      <td>0</td>\n",
                            "      <td>3</td>\n",
                            "      <td>2</td>\n",
                            "    </tr>\n",
                            "    <tr>\n",
                            "      <th>2</th>\n",
                            "      <td>0</td>\n",
                            "      <td>4</td>\n",
                            "      <td>7</td>\n",
                            "    </tr>\n",
                            "    <tr>\n",
                            "      <th>3</th>\n",
                            "      <td>1</td>\n",
                            "      <td>3</td>\n",
                            "      <td>3</td>\n",
                            "    </tr>\n",
                            "    <tr>\n",
                            "      <th>4</th>\n",
                            "      <td>1</td>\n",
                            "      <td>4</td>\n",
                            "      <td>5</td>\n",
                            "    </tr>\n",
                            "    <tr>\n",
                            "      <th>5</th>\n",
                            "      <td>2</td>\n",
                            "      <td>4</td>\n",
                            "      <td>5</td>\n",
                            "    </tr>\n",
                            "    <tr>\n",
                            "      <th>6</th>\n",
                            "      <td>2</td>\n",
                            "      <td>5</td>\n",
                            "      <td>2</td>\n",
                            "    </tr>\n",
                            "    <tr>\n",
                            "      <th>7</th>\n",
                            "      <td>2</td>\n",
                            "      <td>6</td>\n",
                            "      <td>8</td>\n",
                            "    </tr>\n",
                            "    <tr>\n",
                            "      <th>8</th>\n",
                            "      <td>3</td>\n",
                            "      <td>4</td>\n",
                            "      <td>1</td>\n",
                            "    </tr>\n",
                            "    <tr>\n",
                            "      <th>9</th>\n",
                            "      <td>4</td>\n",
                            "      <td>7</td>\n",
                            "      <td>4</td>\n",
                            "    </tr>\n",
                            "    <tr>\n",
                            "      <th>10</th>\n",
                            "      <td>5</td>\n",
                            "      <td>6</td>\n",
                            "      <td>4</td>\n",
                            "    </tr>\n",
                            "    <tr>\n",
                            "      <th>11</th>\n",
                            "      <td>5</td>\n",
                            "      <td>7</td>\n",
                            "      <td>6</td>\n",
                            "    </tr>\n",
                            "  </tbody>\n",
                            "</table>\n",
                            "</div>",
                        ],
                        "text/plain": [
                            "    Source  Destination  Weight\n",
                            "0        0            1       4\n",
                            "1        0            3       2\n",
                            "2        0            4       7\n",
                            "3        1            3       3\n",
                            "4        1            4       5\n",
                            "5        2            4       5\n",
                            "6        2            5       2\n",
                            "7        2            6       8\n",
                            "8        3            4       1\n",
                            "9        4            7       4\n",
                            "10       5            6       4\n",
                            "11       5            7       6",
                        ],
                    },
                    "execution_count": 9,
                    "metadata": {},
                    "output_type": "execute_result",
                }
            ],
            "source": [
                "g = res.wrappers.EdgeMap.PandasEdgeMap(df, 'Source', 'Destination', 'Weight',\n",
                "                                       is_directed=False)\n",
                "g.value",
            ],
        },
        {
            "cell_type": "markdown",
            "metadata": {},
            "source": [
                "## Translate to other Graph formats\n",
                "\n",
                "Because Metagraph knows how to interpret `g` as a graph, we can easily convert it other graph formats.\n",
                "\n",
                "Let's convert it to a NetworkX graph.",
            ],
        },
        {
            "cell_type": "code",
            "execution_count": 10,
            "metadata": {},
            "outputs": [
                {
                    "data": {
                        "text/plain": [
                            "<metagraph.plugins.networkx.types.NetworkXEdgeMap at 0x7fcf3e331e50>"
                        ]
                    },
                    "execution_count": 10,
                    "metadata": {},
                    "output_type": "execute_result",
                }
            ],
            "source": [
                "g2 = res.translate(g, res.wrappers.EdgeMap.NetworkXEdgeMap)\n",
                "g2",
            ],
        },
        {
            "cell_type": "markdown",
            "metadata": {},
            "source": [
                "The underlying object (in this case a NetworkX graph) is usually stored as the `.value` property.\n",
                "\n",
                "We can verify that the edges are preserved correctly by inspecting the NetworkX graph directly.",
            ],
        },
        {
            "cell_type": "code",
            "execution_count": 11,
            "metadata": {},
            "outputs": [
                {
                    "data": {
                        "text/plain": [
                            "EdgeDataView([(0, 1, {'weight': 4}), (0, 3, {'weight': 2}), (0, 4, {'weight': 7}), (1, 3, {'weight': 3}), (1, 4, {'weight': 5}), (3, 4, {'weight': 1}), (4, 2, {'weight': 5}), (4, 7, {'weight': 4}), (2, 5, {'weight': 2}), (2, 6, {'weight': 8}), (5, 6, {'weight': 4}), (5, 7, {'weight': 6})])"
                        ]
                    },
                    "execution_count": 11,
                    "metadata": {},
                    "output_type": "execute_result",
                }
            ],
            "source": ["g2.value.edges(data=True)"],
        },
        {
            "cell_type": "markdown",
            "metadata": {},
            "source": [
                "We can also convert `g` into an adjacency matrix representation using a GraphBLAS matrix.\n",
                "\n",
                "The unweighted adjacency matrix has a weight value where an edge exists and is empty elsewhere.",
            ],
        },
        {
            "cell_type": "code",
            "execution_count": 12,
            "metadata": {},
            "outputs": [
                {
                    "data": {
                        "text/plain": [
                            "<metagraph.plugins.graphblas.types.GrblasEdgeMap at 0x7fcf3e3319d0>"
                        ]
                    },
                    "execution_count": 12,
                    "metadata": {},
                    "output_type": "execute_result",
                }
            ],
            "source": [
                "g3 = res.translate(g, res.types.EdgeMap.GrblasEdgeMapType)\n",
                "g3",
            ],
        },
        {
            "cell_type": "code",
            "execution_count": 13,
            "metadata": {},
            "outputs": [
                {
                    "name": "stdout",
                    "output_type": "stream",
                    "text": ["<Matrix 24/(8x8):INT64>\n"],
                },
                {
                    "data": {
                        "text/html": [
                            "<div>\n",
                            "<style scoped>\n",
                            "    .dataframe tbody tr th:only-of-type {\n",
                            "        vertical-align: middle;\n",
                            "    }\n",
                            "\n",
                            "    .dataframe tbody tr th {\n",
                            "        vertical-align: top;\n",
                            "    }\n",
                            "\n",
                            "    .dataframe thead th {\n",
                            "        text-align: right;\n",
                            "    }\n",
                            "</style>\n",
                            '<table border="1" class="dataframe">\n',
                            "  <thead>\n",
                            '    <tr style="text-align: right;">\n',
                            "      <th></th>\n",
                            "      <th>0</th>\n",
                            "      <th>1</th>\n",
                            "      <th>2</th>\n",
                            "      <th>3</th>\n",
                            "      <th>4</th>\n",
                            "      <th>5</th>\n",
                            "      <th>6</th>\n",
                            "      <th>7</th>\n",
                            "    </tr>\n",
                            "  </thead>\n",
                            "  <tbody>\n",
                            "    <tr>\n",
                            "      <th>0</th>\n",
                            "      <td></td>\n",
                            "      <td>4</td>\n",
                            "      <td></td>\n",
                            "      <td>2</td>\n",
                            "      <td>7</td>\n",
                            "      <td></td>\n",
                            "      <td></td>\n",
                            "      <td></td>\n",
                            "    </tr>\n",
                            "    <tr>\n",
                            "      <th>1</th>\n",
                            "      <td>4</td>\n",
                            "      <td></td>\n",
                            "      <td></td>\n",
                            "      <td>3</td>\n",
                            "      <td>5</td>\n",
                            "      <td></td>\n",
                            "      <td></td>\n",
                            "      <td></td>\n",
                            "    </tr>\n",
                            "    <tr>\n",
                            "      <th>2</th>\n",
                            "      <td></td>\n",
                            "      <td></td>\n",
                            "      <td></td>\n",
                            "      <td></td>\n",
                            "      <td>5</td>\n",
                            "      <td>2</td>\n",
                            "      <td>8</td>\n",
                            "      <td></td>\n",
                            "    </tr>\n",
                            "    <tr>\n",
                            "      <th>3</th>\n",
                            "      <td>2</td>\n",
                            "      <td>3</td>\n",
                            "      <td></td>\n",
                            "      <td></td>\n",
                            "      <td>1</td>\n",
                            "      <td></td>\n",
                            "      <td></td>\n",
                            "      <td></td>\n",
                            "    </tr>\n",
                            "    <tr>\n",
                            "      <th>4</th>\n",
                            "      <td>7</td>\n",
                            "      <td>5</td>\n",
                            "      <td>5</td>\n",
                            "      <td>1</td>\n",
                            "      <td></td>\n",
                            "      <td></td>\n",
                            "      <td></td>\n",
                            "      <td>4</td>\n",
                            "    </tr>\n",
                            "    <tr>\n",
                            "      <th>5</th>\n",
                            "      <td></td>\n",
                            "      <td></td>\n",
                            "      <td>2</td>\n",
                            "      <td></td>\n",
                            "      <td></td>\n",
                            "      <td></td>\n",
                            "      <td>4</td>\n",
                            "      <td>6</td>\n",
                            "    </tr>\n",
                            "    <tr>\n",
                            "      <th>6</th>\n",
                            "      <td></td>\n",
                            "      <td></td>\n",
                            "      <td>8</td>\n",
                            "      <td></td>\n",
                            "      <td></td>\n",
                            "      <td>4</td>\n",
                            "      <td></td>\n",
                            "      <td></td>\n",
                            "    </tr>\n",
                            "    <tr>\n",
                            "      <th>7</th>\n",
                            "      <td></td>\n",
                            "      <td></td>\n",
                            "      <td></td>\n",
                            "      <td></td>\n",
                            "      <td>4</td>\n",
                            "      <td>6</td>\n",
                            "      <td></td>\n",
                            "      <td></td>\n",
                            "    </tr>\n",
                            "  </tbody>\n",
                            "</table>\n",
                            "</div>",
                        ],
                        "text/plain": [
                            "   0  1  2  3  4  5  6  7\n",
                            "0     4     2  7         \n",
                            "1  4        3  5         \n",
                            "2              5  2  8   \n",
                            "3  2  3        1         \n",
                            "4  7  5  5  1           4\n",
                            "5        2           4  6\n",
                            "6        8        4      \n",
                            "7              4  6      ",
                        ],
                    },
                    "execution_count": 13,
                    "metadata": {},
                    "output_type": "execute_result",
                },
            ],
            "source": ["g3.show()"],
        },
        {
            "cell_type": "markdown",
            "metadata": {},
            "source": ["We can also visualize the graph"],
        },
        {
            "cell_type": "code",
            "execution_count": 14,
            "metadata": {},
            "outputs": [
                {
                    "data": {
                        "image/png": "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\n",
                        "text/plain": ["<Figure size 432x288 with 1 Axes>"],
                    },
                    "metadata": {},
                    "output_type": "display_data",
                }
            ],
            "source": ["import grblas\n", "grblas.io.draw(g3.value)"],
        },
        {
            "cell_type": "markdown",
            "metadata": {},
            "source": [
                "## Inspect the steps required for translations\n",
                "\n",
                "Rather than actually converting `g` into other formats, let’s ask Metagraph how it will do the conversion. Each conversion requires a translator (written by plugin developers) to convert between the two formats. However, even if there isn’t a direct translator between two formats, Metagraph will find a path and take several translation steps as needed to perform the task.\n",
                "\n",
                "\n",
                "The mechanism for viewing the plan is to invoke the translation from ``res.plan.translate`` rather than ``res.translate``. Other than the additional ``.plan``, the call signature is identical.\n",
                "\n",
                "In this first example, there is a direct function which translates between ``PandasEdgeMap`` and ``NetworkXEdgeMap``.",
            ],
        },
        {
            "cell_type": "code",
            "execution_count": 15,
            "metadata": {},
            "outputs": [
                {
                    "name": "stdout",
                    "output_type": "stream",
                    "text": [
                        "[Direct Translation]\n",
                        "PandasEdgeMapType -> NetworkXEdgeMapType\n",
                    ],
                }
            ],
            "source": ["res.plan.translate(g, res.types.EdgeMap.NetworkXEdgeMapType)"],
        },
        {
            "cell_type": "markdown",
            "metadata": {},
            "source": [
                "In this next example, there is no direct function which convert ``PandasEdgeMap`` into a ``GrblasEdgeMap``. Instead, we have to first convert to ``NetworkXEdgeMap`` and then to ``ScipyEdgeMap`` before finally arriving at our desired format.\n",
                "\n",
                "While Metagraph will do the conversion automatically, understanding the steps involved helps users plan for expected computation time and memory usage. If needed, plugin developers can write a plugin to provide a direct translation path to save time.",
            ],
        },
        {
            "cell_type": "code",
            "execution_count": 16,
            "metadata": {},
            "outputs": [
                {
                    "name": "stdout",
                    "output_type": "stream",
                    "text": [
                        "[Multi-step Translation]\n",
                        "(start)  PandasEdgeMapType\n",
                        "           -> NetworkXEdgeMapType\n",
                        "             -> ScipyEdgeMapType\n",
                        " (end)         -> GrblasEdgeMapType\n",
                    ],
                }
            ],
            "source": ["res.plan.translate(g, res.types.EdgeMap.GrblasEdgeMapType)"],
        },
        {
            "cell_type": "markdown",
            "metadata": {},
            "source": [
                "## Algorithm #1: Triangle Count\n",
                "\n",
                "Algorithms are described initially in an abstract definition. For triangle count, we take an ``EdgeSet`` and return an ``int`` indicating the number of unique triangles in the graph.\n",
                "\n",
                "After the abstract definition is written, multiple concrete implementations are written to operate on concrete types.\n",
                "\n",
                "Let’s look at the signature and specific implementations available for triangle count.",
            ],
        },
        {
            "cell_type": "code",
            "execution_count": 17,
            "metadata": {},
            "outputs": [
                {
                    "name": "stdout",
                    "output_type": "stream",
                    "text": [
                        "Signature:\n",
                        "\t(graph: EdgeSet({'is_directed': False})) -> int\n",
                        "Implementations:\n",
                        "\t{'graph': <class 'metagraph.plugins.scipy.types.ScipyEdgeSet'>, 'return': <class 'int'>}\n",
                        "\t{'graph': <class 'metagraph.plugins.graphblas.types.GrblasEdgeSet'>, 'return': <class 'int'>}\n",
                        "\t{'graph': <class 'metagraph.plugins.networkx.types.NetworkXEdgeSet'>, 'return': <class 'int'>}\n",
                    ],
                }
            ],
            "source": ["res.algos.cluster.triangle_count.signatures"],
        },
        {
            "cell_type": "markdown",
            "metadata": {},
            "source": [
                "We see that there are a few implementations available. They all take different input graph types, e.g. a `NetworkXEdgeSet`, a `ScipyEdgeSet`, etc.\n",
                "\n",
                "Let’s count the triangles with a few different representations of `g`. We should get the same answer no matter which implementation is chosen.",
            ],
        },
        {
            "cell_type": "code",
            "execution_count": 18,
            "metadata": {},
            "outputs": [
                {
                    "data": {"text/plain": ["5"]},
                    "execution_count": 18,
                    "metadata": {},
                    "output_type": "execute_result",
                }
            ],
            "source": ["res.algos.cluster.triangle_count(g)"],
        },
        {
            "cell_type": "code",
            "execution_count": 19,
            "metadata": {},
            "outputs": [
                {
                    "data": {"text/plain": ["5"]},
                    "execution_count": 19,
                    "metadata": {},
                    "output_type": "execute_result",
                }
            ],
            "source": ["res.algos.cluster.triangle_count(g2)"],
        },
        {
            "cell_type": "markdown",
            "metadata": {},
            "source": [
                "We can view the plan for algorithms just like we can view the plan for translations.\n",
                "\n",
                "Attempting to run triangle count with a `PandasEdgeList` will automatically convert to a NetworkX graph, then run the algorithm.",
            ],
        },
        {
            "cell_type": "code",
            "execution_count": 20,
            "metadata": {},
            "outputs": [
                {
                    "name": "stdout",
                    "output_type": "stream",
                    "text": [
                        "nx_triangle_count\n",
                        "(graph: metagraph.plugins.networkx.types.NetworkXEdgeSet) -> int\n",
                        "=====================\n",
                        "Argument Translations\n",
                        "---------------------\n",
                        "** graph **  [Multi-step Translation]\n",
                        "(start)  PandasEdgeMapType\n",
                        "           -> NetworkXEdgeMapType\n",
                        " (end)       -> NetworkXEdgeSetType\n",
                        "---------------------\n",
                    ],
                }
            ],
            "source": ["res.plan.algos.cluster.triangle_count(g)"],
        },
        {
            "cell_type": "markdown",
            "metadata": {},
            "source": [
                "In the next example, `g2` is already a NetworkX graph, so the only translation needed is from an `EdgeMap` to an `EdgeSet` (i.e. dropping the weights)."
            ],
        },
        {
            "cell_type": "code",
            "execution_count": 21,
            "metadata": {},
            "outputs": [
                {
                    "name": "stdout",
                    "output_type": "stream",
                    "text": [
                        "nx_triangle_count\n",
                        "(graph: metagraph.plugins.networkx.types.NetworkXEdgeSet) -> int\n",
                        "=====================\n",
                        "Argument Translations\n",
                        "---------------------\n",
                        "** graph **  [Direct Translation]\n",
                        "NetworkXEdgeMapType -> NetworkXEdgeSetType\n",
                        "---------------------\n",
                    ],
                }
            ],
            "source": ["res.plan.algos.cluster.triangle_count(g2)"],
        },
        {
            "cell_type": "markdown",
            "metadata": {},
            "source": [
                "How do we make Metagraph run the `triangle_count` algorithm written for Scipy adjacency matrix?\n",
                "\n",
                "Because it finds the NetworkX version first, it will choose that unless we start with a Scipy matrix.",
            ],
        },
        {
            "cell_type": "code",
            "execution_count": 22,
            "metadata": {},
            "outputs": [
                {
                    "name": "stdout",
                    "output_type": "stream",
                    "text": [
                        "ss_triangle_count\n",
                        "(graph: metagraph.plugins.scipy.types.ScipyEdgeSet) -> int\n",
                        "=====================\n",
                        "Argument Translations\n",
                        "---------------------\n",
                        "** graph **  [Direct Translation]\n",
                        "ScipyEdgeMapType -> ScipyEdgeSetType\n",
                        "---------------------\n",
                    ],
                }
            ],
            "source": [
                "g4 = res.translate(g2, res.types.EdgeMap.ScipyEdgeMapType)\n",
                "res.plan.algos.cluster.triangle_count(g4)",
            ],
        },
        {
            "cell_type": "markdown",
            "metadata": {},
            "source": ["Just to prove that it gives the same result, let’s run it."],
        },
        {
            "cell_type": "code",
            "execution_count": 23,
            "metadata": {},
            "outputs": [
                {
                    "data": {"text/plain": ["5"]},
                    "execution_count": 23,
                    "metadata": {},
                    "output_type": "execute_result",
                }
            ],
            "source": ["res.algos.cluster.triangle_count(g4)"],
        },
        {
            "cell_type": "markdown",
            "metadata": {},
            "source": [
                "## Example #2: PageRank\n",
                "\n",
                "Let’s look at the same pieces of information, but for PageRank. PageRank takes a Graph and returns a `NodeMap`, indicating the rank value of each node in the graph.\n",
                "\n",
                "First, let’s verify the signature and the implementations available.\n",
                "\n",
                "We see that there are a few implementations available. One takes a NetworkX graph as input.",
            ],
        },
        {
            "cell_type": "code",
            "execution_count": 24,
            "metadata": {},
            "outputs": [
                {
                    "name": "stdout",
                    "output_type": "stream",
                    "text": [
                        "Signature:\n",
                        "\t(graph: EdgeMap({'dtype': ('float', 'int')}), damping: float = 0.85, maxiter: int = 50, tolerance: float = 1e-05) -> metagraph.types.NodeMap\n",
                        "Implementations:\n",
                        "\t{'graph': <class 'metagraph.plugins.graphblas.types.GrblasEdgeMap'>, 'damping': <class 'float'>, 'maxiter': <class 'int'>, 'tolerance': <class 'float'>, 'return': <class 'metagraph.plugins.graphblas.types.GrblasNodeMap'>}\n",
                        "\t{'graph': <class 'metagraph.plugins.networkx.types.NetworkXEdgeMap'>, 'damping': <class 'float'>, 'maxiter': <class 'int'>, 'tolerance': <class 'float'>, 'return': <class 'metagraph.plugins.python.types.PythonNodeMap'>}\n",
                    ],
                }
            ],
            "source": ["res.algos.link_analysis.pagerank.signatures"],
        },
        {
            "cell_type": "markdown",
            "metadata": {},
            "source": ["Let’s look at the steps required in the plan. "],
        },
        {
            "cell_type": "code",
            "execution_count": 25,
            "metadata": {},
            "outputs": [
                {
                    "name": "stdout",
                    "output_type": "stream",
                    "text": [
                        "nx_pagerank\n",
                        "(graph: metagraph.plugins.networkx.types.NetworkXEdgeMap, damping: float, maxiter: int, tolerance: float) -> metagraph.plugins.python.types.PythonNodeMap\n",
                        "=====================\n",
                        "Argument Translations\n",
                        "---------------------\n",
                        "** graph **  [Direct Translation]\n",
                        "PandasEdgeMapType -> NetworkXEdgeMapType\n",
                        "** damping **\n",
                        "float\n",
                        "** maxiter **\n",
                        "int\n",
                        "** tolerance **\n",
                        "float\n",
                        "---------------------\n",
                    ],
                }
            ],
            "source": ["res.plan.algos.link_analysis.pagerank(g)"],
        },
        {
            "cell_type": "markdown",
            "metadata": {},
            "source": ["Let’s perform the computation."],
        },
        {
            "cell_type": "code",
            "execution_count": 26,
            "metadata": {},
            "outputs": [
                {
                    "data": {
                        "text/plain": [
                            "<metagraph.plugins.python.types.PythonNodeMap at 0x7fcf3cf61c10>"
                        ]
                    },
                    "execution_count": 26,
                    "metadata": {},
                    "output_type": "execute_result",
                }
            ],
            "source": ["pr = res.algos.link_analysis.pagerank(g)\n", "pr"],
        },
        {
            "cell_type": "markdown",
            "metadata": {},
            "source": [
                "The result is a `PythonNodeMap`. Its underlying object is just a `dict`, so we can view that easily."
            ],
        },
        {
            "cell_type": "code",
            "execution_count": 27,
            "metadata": {},
            "outputs": [
                {
                    "data": {
                        "text/plain": [
                            "{0: 0.11990989117844908,\n",
                            " 1: 0.11990989117844908,\n",
                            " 3: 0.11990989117844908,\n",
                            " 4: 0.1953840289789895,\n",
                            " 2: 0.12919108800740858,\n",
                            " 5: 0.13300793197881575,\n",
                            " 6: 0.09304148578762082,\n",
                            " 7: 0.08964579171181795}",
                        ]
                    },
                    "execution_count": 27,
                    "metadata": {},
                    "output_type": "execute_result",
                }
            ],
            "source": ["pr.value"],
        },
        {
            "cell_type": "markdown",
            "metadata": {},
            "source": [
                "Suppose we want to use the result in a Numpy function. We could create the Numpy array from the dict, but there is already a translator available to do that. Let’s use it."
            ],
        },
        {
            "cell_type": "code",
            "execution_count": 28,
            "metadata": {},
            "outputs": [
                {
                    "data": {
                        "text/plain": [
                            "array([0.11990989, 0.11990989, 0.12919109, 0.11990989, 0.19538403,\n",
                            "       0.13300793, 0.09304149, 0.08964579])",
                        ]
                    },
                    "execution_count": 28,
                    "metadata": {},
                    "output_type": "execute_result",
                }
            ],
            "source": [
                "pr_nicer = res.translate(pr, res.types.NodeMap.NumpyNodeMapType)\n",
                "pr_nicer.value",
            ],
        },
    ],
    "metadata": {
        "kernelspec": {
            "display_name": "Python 3",
            "language": "python",
            "name": "python3",
        },
        "language_info": {
            "codemirror_mode": {"name": "ipython", "version": 3},
            "file_extension": ".py",
            "mimetype": "text/x-python",
            "name": "python",
            "nbconvert_exporter": "python",
            "pygments_lexer": "ipython3",
            "version": "3.7.7",
        },
    },
    "nbformat": 4,
    "nbformat_minor": 4,
}
